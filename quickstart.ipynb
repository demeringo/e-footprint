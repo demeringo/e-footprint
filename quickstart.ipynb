{
 "cells": [
  {
   "cell_type": "markdown",
   "id": "6bc9b591-b971-4e01-b2a4-3b2ac48b7f8d",
   "metadata": {},
   "source": [
    "# Quickstart: assess impacts of a user journey"
   ]
  },
  {
   "cell_type": "markdown",
   "id": "99e47f8f-5f96-434a-9418-7d23500b8ee2",
   "metadata": {},
   "source": [
    "This notebook provides an example scenario that you can use to get familiar with the Pyhton API of efootprint.\n",
    "\n",
    "It builds a simulation scenario, step by step, made of:\n",
    "- multiple resources involved (serveurs with auto-scaling settings, storage, service and network)\n",
    "- A user journey involving 2 steps (Streaming, Upload)\n",
    "- a usage pattern"
   ]
  },
  {
   "cell_type": "markdown",
   "id": "899edb61-e0fb-4923-a542-34c81e66ddb1",
   "metadata": {},
   "source": [
    "## Import the packages\n",
    "\n",
    "⚠ If this steps fails, remember to execute it _inside_ your python virtual environement. (You may initialize it with `poetry install`)."
   ]
  },
  {
   "cell_type": "code",
   "execution_count": 93,
   "id": "7c1757b9-ec0b-45d1-89cc-c18a9bf2f907",
   "metadata": {},
   "outputs": [],
   "source": [
    "from efootprint.constants.sources import SourceValue, Sources, SourceObject\n",
    "from efootprint.core.usage.user_journey import UserJourney, UserJourneyStep\n",
    "from efootprint.core.hardware.servers.autoscaling import Autoscaling\n",
    "from efootprint.core.hardware.storage import Storage\n",
    "from efootprint.core.service import Service\n",
    "from efootprint.core.hardware.device_population import DevicePopulation\n",
    "from efootprint.core.usage.usage_pattern import UsagePattern\n",
    "from efootprint.core.hardware.network import Network\n",
    "from efootprint.core.system import System\n",
    "from efootprint.constants.countries import Countries\n",
    "from efootprint.constants.units import u\n",
    "from efootprint.utils.calculus_graph import build_calculus_graph\n",
    "from efootprint.utils.object_relationships_graphs import build_object_relationships_graph, \\\n",
    "    USAGE_PATTERN_VIEW_CLASSES_TO_IGNORE\n",
    "from efootprint.builders.hardware.devices_defaults import default_laptop\n",
    "\n",
    "\n"
   ]
  },
  {
   "cell_type": "markdown",
   "id": "9ba31d91-0126-43bc-9617-9d5939d003bc",
   "metadata": {},
   "source": [
    "## Define the resources"
   ]
  },
  {
   "cell_type": "code",
   "execution_count": 94,
   "id": "92719fd2-07a7-4172-8ddb-2db532497a3b",
   "metadata": {},
   "outputs": [],
   "source": [
    "server = Autoscaling(\n",
    "    \"Autoscaling server\",\n",
    "    carbon_footprint_fabrication=SourceValue(600 * u.kg, Sources.BASE_ADEME_V19),\n",
    "    power=SourceValue(300 * u.W, Sources.HYPOTHESIS),\n",
    "    lifespan=SourceValue(6 * u.year, Sources.HYPOTHESIS),\n",
    "    idle_power=SourceValue(50 * u.W, Sources.HYPOTHESIS),\n",
    "    ram=SourceValue(128 * u.GB, Sources.HYPOTHESIS),\n",
    "    nb_of_cpus=SourceValue(24 * u.core, Sources.HYPOTHESIS),\n",
    "    power_usage_effectiveness=SourceValue(1.2 * u.dimensionless, Sources.HYPOTHESIS),\n",
    "    average_carbon_intensity=SourceValue(100 * u.g / u.kWh, Sources.HYPOTHESIS),\n",
    "    server_utilization_rate=SourceValue(0.9 * u.dimensionless, Sources.HYPOTHESIS))"
   ]
  },
  {
   "cell_type": "code",
   "execution_count": 95,
   "id": "7ea93fbb-f994-4338-a71b-bd2fc495cc5e",
   "metadata": {},
   "outputs": [],
   "source": [
    "storage = Storage(\n",
    "    \"SSD storage\",\n",
    "    carbon_footprint_fabrication=SourceValue(160 * u.kg, Sources.STORAGE_EMBODIED_CARBON_STUDY),\n",
    "    power=SourceValue(1.3 * u.W, Sources.STORAGE_EMBODIED_CARBON_STUDY),\n",
    "    lifespan=SourceValue(6 * u.years, Sources.HYPOTHESIS),\n",
    "    idle_power=SourceValue(0 * u.W, Sources.HYPOTHESIS),\n",
    "    storage_capacity=SourceValue(1 * u.TB, Sources.STORAGE_EMBODIED_CARBON_STUDY),\n",
    "    power_usage_effectiveness=SourceValue(1.2 * u.dimensionless, Sources.HYPOTHESIS),\n",
    "    average_carbon_intensity=SourceValue(100 * u.g / u.kWh),\n",
    "    data_replication_factor=SourceValue(3 * u.dimensionless, Sources.HYPOTHESIS))"
   ]
  },
  {
   "cell_type": "code",
   "execution_count": 96,
   "id": "a7df83eb-f052-4d7f-a1ac-bca15f2ab7bb",
   "metadata": {},
   "outputs": [],
   "source": [
    "service = Service(\n",
    "    \"Youtube\",\n",
    "    server=server,\n",
    "    storage=storage,\n",
    "    base_ram_consumption=SourceValue(300 * u.MB, Sources.HYPOTHESIS),\n",
    "    base_cpu_consumption=SourceValue(2 * u.core, Sources.HYPOTHESIS))"
   ]
  },
  {
   "cell_type": "markdown",
   "id": "cc81bf1b-763e-4e5f-86e0-67e89c86f659",
   "metadata": {},
   "source": [
    "## Define the user journey\n",
    "\n",
    "The journey spans multiple steps:\n",
    "- Streaming\n",
    "- Upload"
   ]
  },
  {
   "cell_type": "markdown",
   "id": "37ca2904-6ca2-4160-9387-2f7edb582d90",
   "metadata": {},
   "source": [
    "### Define the First step (Streaming)"
   ]
  },
  {
   "cell_type": "code",
   "execution_count": 97,
   "id": "83f1191a-f493-412b-8d44-c740828de778",
   "metadata": {},
   "outputs": [
    {
     "name": "stderr",
     "output_type": "stream",
     "text": [
      "2024-01-19 17:13:04,739 - INFO - Computing calculated attributes for UserJourneyStep 20 min streaming on Youtube\n"
     ]
    }
   ],
   "source": [
    "streaming_step = UserJourneyStep(\n",
    "    \"20 min streaming on Youtube\",\n",
    "    service=service,\n",
    "    data_upload=SourceValue(50 * u.kB / u.uj, Sources.USER_INPUT),\n",
    "    data_download=SourceValue((2.5 / 3) * u.GB / u.uj, Sources.USER_INPUT),\n",
    "    user_time_spent=SourceValue(20 * u.min / u.uj, Sources.USER_INPUT),\n",
    "    request_duration=SourceValue(4 * u.min, Sources.HYPOTHESIS),\n",
    "    cpu_needed=SourceValue(1 * u.core / u.uj, Sources.HYPOTHESIS),\n",
    "    ram_needed=SourceValue(50 * u.MB / u.uj, Sources.HYPOTHESIS))"
   ]
  },
  {
   "cell_type": "markdown",
   "id": "4a7328fb-c727-4d72-b80e-7701853e5d42",
   "metadata": {},
   "source": [
    "### Define the second step (Upload)"
   ]
  },
  {
   "cell_type": "code",
   "execution_count": 98,
   "id": "3acbcf85-0174-4228-b860-6d014315b243",
   "metadata": {},
   "outputs": [
    {
     "name": "stderr",
     "output_type": "stream",
     "text": [
      "2024-01-19 17:13:04,843 - INFO - Computing calculated attributes for UserJourneyStep 0.4s of upload\n"
     ]
    }
   ],
   "source": [
    "upload_step = UserJourneyStep(\n",
    "    \"0.4s of upload\",\n",
    "    service=service,\n",
    "    data_upload=SourceValue(300 * u.kB / u.uj, Sources.USER_INPUT),\n",
    "    data_download=SourceValue(0 * u.GB / u.uj, Sources.USER_INPUT),\n",
    "    user_time_spent=SourceValue(0.4 * u.s / u.uj, Sources.USER_INPUT),\n",
    "    request_duration=SourceValue(0.4 * u.s, Sources.HYPOTHESIS),\n",
    "    cpu_needed=SourceValue(1 * u.core / u.uj, Sources.HYPOTHESIS),\n",
    "    ram_needed=SourceValue(500 * u.MB / u.uj, Sources.HYPOTHESIS)\n",
    ")"
   ]
  },
  {
   "cell_type": "markdown",
   "id": "5ea271b2-80dc-4954-b26e-04b76b1f0490",
   "metadata": {},
   "source": [
    "### Assemble the entire journey from the steps defined above"
   ]
  },
  {
   "cell_type": "code",
   "execution_count": 99,
   "id": "d7a256df-b9bf-4f5c-a1d7-884aea4283a9",
   "metadata": {},
   "outputs": [
    {
     "name": "stderr",
     "output_type": "stream",
     "text": [
      "2024-01-19 17:13:04,904 - INFO - Computing calculated attributes for UserJourney Mean Youtube user journey\n"
     ]
    }
   ],
   "source": [
    "user_journey = UserJourney(\"Mean Youtube user journey\", uj_steps=[streaming_step, upload_step])"
   ]
  },
  {
   "cell_type": "markdown",
   "id": "f143aef6-1475-45ec-9f3f-588ebf5a6ce6",
   "metadata": {},
   "source": [
    "### Explicit population, network consumption and global usage pattern"
   ]
  },
  {
   "cell_type": "code",
   "execution_count": 100,
   "id": "477fd54c-f41d-4c3e-a76a-fb6bd48f53e2",
   "metadata": {},
   "outputs": [
    {
     "name": "stderr",
     "output_type": "stream",
     "text": [
      "2024-01-19 17:13:04,949 - INFO - Computing calculated attributes for DevicePopulation French Youtube users on laptop\n",
      "2024-01-19 17:13:04,960 - INFO - Computing calculated attributes for UsagePattern Daily Youtube usage\n",
      "2024-01-19 17:13:04,964 - INFO - Computing calculated attributes for DevicePopulation French Youtube users on laptop\n",
      "2024-01-19 17:13:04,980 - INFO - Computing calculated attributes for Service Youtube\n",
      "2024-01-19 17:13:05,021 - INFO - Computing calculated attributes for Network WIFI network\n",
      "2024-01-19 17:13:05,038 - INFO - Computing calculated attributes for Autoscaling Autoscaling server\n",
      "2024-01-19 17:13:05,115 - INFO - Computing calculated attributes for Storage SSD storage\n"
     ]
    }
   ],
   "source": [
    "\n",
    "\n",
    "device_population = DevicePopulation(\n",
    "    \"French Youtube users on laptop\",\n",
    "    nb_devices=SourceValue(4e7 * 0.3 * u.user, Sources.USER_INPUT),\n",
    "    country=Countries.FRANCE,\n",
    "    devices=[default_laptop()])\n",
    "\n",
    "network = Network(\n",
    "        \"WIFI network\",\n",
    "        bandwidth_energy_intensity=SourceValue(0.05 * u(\"kWh/GB\"), Sources.TRAFICOM_STUDY))\n",
    "\n",
    "usage_pattern = UsagePattern(\n",
    "    \"Daily Youtube usage\",\n",
    "    user_journey=user_journey,\n",
    "    device_population=device_population,\n",
    "    network=network,\n",
    "    user_journey_freq_per_user=SourceValue(365 * u.user_journey / (u.user * u.year), Sources.USER_INPUT),\n",
    "    time_intervals=SourceObject([[7, 12], [17, 23]]))\n",
    "\n",
    "system = System(\"system 1\", usage_patterns=[usage_pattern])\n",
    "\n"
   ]
  },
  {
   "cell_type": "markdown",
   "id": "83ec6579-be6a-40ff-bed2-ea4c18062841",
   "metadata": {},
   "source": [
    "### Simulate and show the results"
   ]
  },
  {
   "cell_type": "code",
   "execution_count": 101,
   "id": "ad25abdc-dbae-4bc1-97d4-489786e228be",
   "metadata": {},
   "outputs": [
    {
     "name": "stdout",
     "output_type": "stream",
     "text": [
      "Server carbon footprint is 707604.7183333335 kilogram / year\n",
      "Total system carbon footprint is 37408251.09958489 kilogram / year\n"
     ]
    }
   ],
   "source": [
    "print(f\"Server carbon footprint is {(server.energy_footprint + server.instances_fabrication_footprint).value}\")\n",
    "print(f\"Total system carbon footprint is {system.total_footprint().value}\")\n"
   ]
  },
  {
   "cell_type": "markdown",
   "id": "3af39658-b218-4000-b8c8-f5aa3c3e6a36",
   "metadata": {},
   "source": [
    "## Show calculus graph"
   ]
  },
  {
   "cell_type": "code",
   "execution_count": 102,
   "id": "5eb42a32-b6bd-4809-a438-a40b341bc218",
   "metadata": {},
   "outputs": [
    {
     "name": "stdout",
     "output_type": "stream",
     "text": [
      "Warning: When  cdn_resources is 'local' jupyter notebook has issues displaying graphics on chrome/safari. Use cdn_resources='in_line' or cdn_resources='remote' if you have issues viewing graphics in a notebook.\n",
      "device_population_fab_footprint_calculus_graph.html\n"
     ]
    },
    {
     "data": {
      "text/html": [
       "\n",
       "        <iframe\n",
       "            width=\"1800px\"\n",
       "            height=\"900px\"\n",
       "            src=\"device_population_fab_footprint_calculus_graph.html\"\n",
       "            frameborder=\"0\"\n",
       "            allowfullscreen\n",
       "            \n",
       "        ></iframe>\n",
       "        "
      ],
      "text/plain": [
       "<IPython.lib.display.IFrame at 0x7ff250480b80>"
      ]
     },
     "execution_count": 102,
     "metadata": {},
     "output_type": "execute_result"
    }
   ],
   "source": [
    "# current_dir = os.getcwd()\n",
    "# current_dir = os.path.abspath(os.path.dirname(__file__))\n",
    "\n",
    "calculus_graph = build_calculus_graph(device_population.instances_fabrication_footprint)\n",
    "\n",
    "calculus_graph.show(\"device_population_fab_footprint_calculus_graph.html\")\n",
    "# calculus_graph.show(os.path.join(current_dir, \"device_population_fab_footprint_calculus_graph.html\"))\n"
   ]
  },
  {
   "cell_type": "markdown",
   "id": "7effc658-1791-4bac-9158-0035c887cd52",
   "metadata": {},
   "source": [
    "## Show relations graph"
   ]
  },
  {
   "cell_type": "code",
   "execution_count": 103,
   "id": "e39717bc-d3b5-4512-9ee4-2cbd1a500de6",
   "metadata": {},
   "outputs": [
    {
     "name": "stdout",
     "output_type": "stream",
     "text": [
      "Warning: When  cdn_resources is 'local' jupyter notebook has issues displaying graphics on chrome/safari. Use cdn_resources='in_line' or cdn_resources='remote' if you have issues viewing graphics in a notebook.\n",
      "object_relationships_graph.html\n"
     ]
    },
    {
     "data": {
      "text/html": [
       "\n",
       "        <iframe\n",
       "            width=\"1200px\"\n",
       "            height=\"900px\"\n",
       "            src=\"object_relationships_graph.html\"\n",
       "            frameborder=\"0\"\n",
       "            allowfullscreen\n",
       "            \n",
       "        ></iframe>\n",
       "        "
      ],
      "text/plain": [
       "<IPython.lib.display.IFrame at 0x7ff250483fa0>"
      ]
     },
     "execution_count": 103,
     "metadata": {},
     "output_type": "execute_result"
    }
   ],
   "source": [
    "\n",
    "object_relationships_graph = build_object_relationships_graph(\n",
    "     usage_pattern, classes_to_ignore=USAGE_PATTERN_VIEW_CLASSES_TO_IGNORE)\n",
    "# object_relationships_graph.show(os.path.join(current_dir, \"object_relationships_graph.html\"))\n",
    "object_relationships_graph.show(\"object_relationships_graph.html\")"
   ]
  }
 ],
 "metadata": {
  "kernelspec": {
   "display_name": "Python 3 (ipykernel)",
   "language": "python",
   "name": "python3"
  },
  "language_info": {
   "codemirror_mode": {
    "name": "ipython",
    "version": 3
   },
   "file_extension": ".py",
   "mimetype": "text/x-python",
   "name": "python",
   "nbconvert_exporter": "python",
   "pygments_lexer": "ipython3",
   "version": "3.10.12"
  }
 },
 "nbformat": 4,
 "nbformat_minor": 5
}
